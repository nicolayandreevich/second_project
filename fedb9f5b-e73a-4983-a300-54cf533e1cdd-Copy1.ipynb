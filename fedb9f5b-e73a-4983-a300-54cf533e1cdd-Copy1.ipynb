{
 "cells": [
  {
   "cell_type": "markdown",
   "metadata": {
    "id": "QMkT3iL-k7P2",
    "toc": true
   },
   "source": [
    "<h1>Содержание<span class=\"tocSkip\"></span></h1>\n",
    "<div class=\"toc\"><ul class=\"toc-item\"><li><span><a href=\"#Подготовка-данных\" data-toc-modified-id=\"Подготовка-данных-1\"><span class=\"toc-item-num\">1&nbsp;&nbsp;</span>Подготовка данных</a></span></li><li><span><a href=\"#Исследование-задачи\" data-toc-modified-id=\"Исследование-задачи-2\"><span class=\"toc-item-num\">2&nbsp;&nbsp;</span>Исследование задачи</a></span></li><li><span><a href=\"#Борьба-с-дисбалансом\" data-toc-modified-id=\"Борьба-с-дисбалансом-3\"><span class=\"toc-item-num\">3&nbsp;&nbsp;</span>Борьба с дисбалансом</a></span></li><li><span><a href=\"#Тестирование-модели\" data-toc-modified-id=\"Тестирование-модели-4\"><span class=\"toc-item-num\">4&nbsp;&nbsp;</span>Тестирование модели</a></span></li><li><span><a href=\"#Чек-лист-готовности-проекта\" data-toc-modified-id=\"Чек-лист-готовности-проекта-5\"><span class=\"toc-item-num\">5&nbsp;&nbsp;</span>Чек-лист готовности проекта</a></span></li></ul></div>"
   ]
  },
  {
   "cell_type": "markdown",
   "metadata": {
    "id": "noewKaAnk7P7"
   },
   "source": [
    "# Отток клиентов"
   ]
  },
  {
   "cell_type": "markdown",
   "metadata": {
    "id": "cmTWxRcIk7P-"
   },
   "source": [
    "Из «Бета-Банка» стали уходить клиенты. Каждый месяц. Немного, но заметно. Банковские маркетологи посчитали: сохранять текущих клиентов дешевле, чем привлекать новых.\n",
    "\n",
    "Нужно спрогнозировать, уйдёт клиент из банка в ближайшее время или нет. Вам предоставлены исторические данные о поведении клиентов и расторжении договоров с банком. \n",
    "\n",
    "Постройте модель с предельно большим значением *F1*-меры. Чтобы сдать проект успешно, нужно довести метрику до 0.59. Проверьте *F1*-меру на тестовой выборке самостоятельно.\n",
    "\n",
    "Дополнительно измеряйте *AUC-ROC*, сравнивайте её значение с *F1*-мерой.\n",
    "\n",
    "Источник данных: [https://www.kaggle.com/barelydedicated/bank-customer-churn-modeling](https://www.kaggle.com/barelydedicated/bank-customer-churn-modeling)"
   ]
  },
  {
   "cell_type": "markdown",
   "metadata": {
    "id": "vzQ6nTVRk7P-"
   },
   "source": [
    "## Подготовка данных"
   ]
  },
  {
   "cell_type": "code",
   "execution_count": 16,
   "metadata": {
    "colab": {
     "base_uri": "https://localhost:8080/"
    },
    "id": "fr4qyi-Vk7P_",
    "outputId": "4351eb0f-1afe-4c28-b2fc-42db9751cf9b"
   },
   "outputs": [
    {
     "name": "stdout",
     "output_type": "stream",
     "text": [
      "Looking in indexes: https://pypi.org/simple, https://us-python.pkg.dev/colab-wheels/public/simple/\n",
      "Requirement already satisfied: fast_ml in /usr/local/lib/python3.8/dist-packages (3.68)\n"
     ]
    }
   ],
   "source": [
    "import pandas as pd\n",
    "from sklearn.model_selection import train_test_split\n",
    "from sklearn.preprocessing import OrdinalEncoder\n",
    "from sklearn.tree import DecisionTreeClassifier\n",
    "from sklearn.ensemble import RandomForestClassifier\n",
    "from sklearn.linear_model import LogisticRegression\n",
    "from sklearn.metrics import f1_score\n",
    "from sklearn.metrics import roc_auc_score\n",
    "from sklearn.preprocessing import StandardScaler\n",
    "from sklearn.metrics import confusion_matrix\n",
    "from sklearn.utils import shuffle\n",
    "from sklearn.dummy import DummyClassifier \n",
    "from sklearn.metrics import accuracy_score \n",
    "from sklearn.metrics import recall_score\n",
    "!pip install fast_ml\n",
    "from fast_ml.model_development import train_valid_test_split"
   ]
  },
  {
   "cell_type": "code",
   "execution_count": 17,
   "metadata": {
    "colab": {
     "base_uri": "https://localhost:8080/",
     "height": 571
    },
    "id": "92npHiSFmtsO",
    "outputId": "25d13b21-5ec1-40cd-b481-043173862d65"
   },
   "outputs": [
    {
     "name": "stdout",
     "output_type": "stream",
     "text": [
      "<class 'pandas.core.frame.DataFrame'>\n",
      "RangeIndex: 10000 entries, 0 to 9999\n",
      "Data columns (total 14 columns):\n",
      " #   Column           Non-Null Count  Dtype  \n",
      "---  ------           --------------  -----  \n",
      " 0   RowNumber        10000 non-null  int64  \n",
      " 1   CustomerId       10000 non-null  int64  \n",
      " 2   Surname          10000 non-null  object \n",
      " 3   CreditScore      10000 non-null  int64  \n",
      " 4   Geography        10000 non-null  object \n",
      " 5   Gender           10000 non-null  object \n",
      " 6   Age              10000 non-null  int64  \n",
      " 7   Tenure           9091 non-null   float64\n",
      " 8   Balance          10000 non-null  float64\n",
      " 9   NumOfProducts    10000 non-null  int64  \n",
      " 10  HasCrCard        10000 non-null  int64  \n",
      " 11  IsActiveMember   10000 non-null  int64  \n",
      " 12  EstimatedSalary  10000 non-null  float64\n",
      " 13  Exited           10000 non-null  int64  \n",
      "dtypes: float64(3), int64(8), object(3)\n",
      "memory usage: 1.1+ MB\n"
     ]
    },
    {
     "data": {
      "text/html": [
       "\n",
       "  <div id=\"df-cd30fc28-a191-4ec8-8023-7aef8d02f122\">\n",
       "    <div class=\"colab-df-container\">\n",
       "      <div>\n",
       "<style scoped>\n",
       "    .dataframe tbody tr th:only-of-type {\n",
       "        vertical-align: middle;\n",
       "    }\n",
       "\n",
       "    .dataframe tbody tr th {\n",
       "        vertical-align: top;\n",
       "    }\n",
       "\n",
       "    .dataframe thead th {\n",
       "        text-align: right;\n",
       "    }\n",
       "</style>\n",
       "<table border=\"1\" class=\"dataframe\">\n",
       "  <thead>\n",
       "    <tr style=\"text-align: right;\">\n",
       "      <th></th>\n",
       "      <th>RowNumber</th>\n",
       "      <th>CustomerId</th>\n",
       "      <th>Surname</th>\n",
       "      <th>CreditScore</th>\n",
       "      <th>Geography</th>\n",
       "      <th>Gender</th>\n",
       "      <th>Age</th>\n",
       "      <th>Tenure</th>\n",
       "      <th>Balance</th>\n",
       "      <th>NumOfProducts</th>\n",
       "      <th>HasCrCard</th>\n",
       "      <th>IsActiveMember</th>\n",
       "      <th>EstimatedSalary</th>\n",
       "      <th>Exited</th>\n",
       "    </tr>\n",
       "  </thead>\n",
       "  <tbody>\n",
       "    <tr>\n",
       "      <th>0</th>\n",
       "      <td>1</td>\n",
       "      <td>15634602</td>\n",
       "      <td>Hargrave</td>\n",
       "      <td>619</td>\n",
       "      <td>France</td>\n",
       "      <td>Female</td>\n",
       "      <td>42</td>\n",
       "      <td>2.0</td>\n",
       "      <td>0.00</td>\n",
       "      <td>1</td>\n",
       "      <td>1</td>\n",
       "      <td>1</td>\n",
       "      <td>101348.88</td>\n",
       "      <td>1</td>\n",
       "    </tr>\n",
       "    <tr>\n",
       "      <th>1</th>\n",
       "      <td>2</td>\n",
       "      <td>15647311</td>\n",
       "      <td>Hill</td>\n",
       "      <td>608</td>\n",
       "      <td>Spain</td>\n",
       "      <td>Female</td>\n",
       "      <td>41</td>\n",
       "      <td>1.0</td>\n",
       "      <td>83807.86</td>\n",
       "      <td>1</td>\n",
       "      <td>0</td>\n",
       "      <td>1</td>\n",
       "      <td>112542.58</td>\n",
       "      <td>0</td>\n",
       "    </tr>\n",
       "    <tr>\n",
       "      <th>2</th>\n",
       "      <td>3</td>\n",
       "      <td>15619304</td>\n",
       "      <td>Onio</td>\n",
       "      <td>502</td>\n",
       "      <td>France</td>\n",
       "      <td>Female</td>\n",
       "      <td>42</td>\n",
       "      <td>8.0</td>\n",
       "      <td>159660.80</td>\n",
       "      <td>3</td>\n",
       "      <td>1</td>\n",
       "      <td>0</td>\n",
       "      <td>113931.57</td>\n",
       "      <td>1</td>\n",
       "    </tr>\n",
       "    <tr>\n",
       "      <th>3</th>\n",
       "      <td>4</td>\n",
       "      <td>15701354</td>\n",
       "      <td>Boni</td>\n",
       "      <td>699</td>\n",
       "      <td>France</td>\n",
       "      <td>Female</td>\n",
       "      <td>39</td>\n",
       "      <td>1.0</td>\n",
       "      <td>0.00</td>\n",
       "      <td>2</td>\n",
       "      <td>0</td>\n",
       "      <td>0</td>\n",
       "      <td>93826.63</td>\n",
       "      <td>0</td>\n",
       "    </tr>\n",
       "    <tr>\n",
       "      <th>4</th>\n",
       "      <td>5</td>\n",
       "      <td>15737888</td>\n",
       "      <td>Mitchell</td>\n",
       "      <td>850</td>\n",
       "      <td>Spain</td>\n",
       "      <td>Female</td>\n",
       "      <td>43</td>\n",
       "      <td>2.0</td>\n",
       "      <td>125510.82</td>\n",
       "      <td>1</td>\n",
       "      <td>1</td>\n",
       "      <td>1</td>\n",
       "      <td>79084.10</td>\n",
       "      <td>0</td>\n",
       "    </tr>\n",
       "  </tbody>\n",
       "</table>\n",
       "</div>\n",
       "      <button class=\"colab-df-convert\" onclick=\"convertToInteractive('df-cd30fc28-a191-4ec8-8023-7aef8d02f122')\"\n",
       "              title=\"Convert this dataframe to an interactive table.\"\n",
       "              style=\"display:none;\">\n",
       "        \n",
       "  <svg xmlns=\"http://www.w3.org/2000/svg\" height=\"24px\"viewBox=\"0 0 24 24\"\n",
       "       width=\"24px\">\n",
       "    <path d=\"M0 0h24v24H0V0z\" fill=\"none\"/>\n",
       "    <path d=\"M18.56 5.44l.94 2.06.94-2.06 2.06-.94-2.06-.94-.94-2.06-.94 2.06-2.06.94zm-11 1L8.5 8.5l.94-2.06 2.06-.94-2.06-.94L8.5 2.5l-.94 2.06-2.06.94zm10 10l.94 2.06.94-2.06 2.06-.94-2.06-.94-.94-2.06-.94 2.06-2.06.94z\"/><path d=\"M17.41 7.96l-1.37-1.37c-.4-.4-.92-.59-1.43-.59-.52 0-1.04.2-1.43.59L10.3 9.45l-7.72 7.72c-.78.78-.78 2.05 0 2.83L4 21.41c.39.39.9.59 1.41.59.51 0 1.02-.2 1.41-.59l7.78-7.78 2.81-2.81c.8-.78.8-2.07 0-2.86zM5.41 20L4 18.59l7.72-7.72 1.47 1.35L5.41 20z\"/>\n",
       "  </svg>\n",
       "      </button>\n",
       "      \n",
       "  <style>\n",
       "    .colab-df-container {\n",
       "      display:flex;\n",
       "      flex-wrap:wrap;\n",
       "      gap: 12px;\n",
       "    }\n",
       "\n",
       "    .colab-df-convert {\n",
       "      background-color: #E8F0FE;\n",
       "      border: none;\n",
       "      border-radius: 50%;\n",
       "      cursor: pointer;\n",
       "      display: none;\n",
       "      fill: #1967D2;\n",
       "      height: 32px;\n",
       "      padding: 0 0 0 0;\n",
       "      width: 32px;\n",
       "    }\n",
       "\n",
       "    .colab-df-convert:hover {\n",
       "      background-color: #E2EBFA;\n",
       "      box-shadow: 0px 1px 2px rgba(60, 64, 67, 0.3), 0px 1px 3px 1px rgba(60, 64, 67, 0.15);\n",
       "      fill: #174EA6;\n",
       "    }\n",
       "\n",
       "    [theme=dark] .colab-df-convert {\n",
       "      background-color: #3B4455;\n",
       "      fill: #D2E3FC;\n",
       "    }\n",
       "\n",
       "    [theme=dark] .colab-df-convert:hover {\n",
       "      background-color: #434B5C;\n",
       "      box-shadow: 0px 1px 3px 1px rgba(0, 0, 0, 0.15);\n",
       "      filter: drop-shadow(0px 1px 2px rgba(0, 0, 0, 0.3));\n",
       "      fill: #FFFFFF;\n",
       "    }\n",
       "  </style>\n",
       "\n",
       "      <script>\n",
       "        const buttonEl =\n",
       "          document.querySelector('#df-cd30fc28-a191-4ec8-8023-7aef8d02f122 button.colab-df-convert');\n",
       "        buttonEl.style.display =\n",
       "          google.colab.kernel.accessAllowed ? 'block' : 'none';\n",
       "\n",
       "        async function convertToInteractive(key) {\n",
       "          const element = document.querySelector('#df-cd30fc28-a191-4ec8-8023-7aef8d02f122');\n",
       "          const dataTable =\n",
       "            await google.colab.kernel.invokeFunction('convertToInteractive',\n",
       "                                                     [key], {});\n",
       "          if (!dataTable) return;\n",
       "\n",
       "          const docLinkHtml = 'Like what you see? Visit the ' +\n",
       "            '<a target=\"_blank\" href=https://colab.research.google.com/notebooks/data_table.ipynb>data table notebook</a>'\n",
       "            + ' to learn more about interactive tables.';\n",
       "          element.innerHTML = '';\n",
       "          dataTable['output_type'] = 'display_data';\n",
       "          await google.colab.output.renderOutput(dataTable, element);\n",
       "          const docLink = document.createElement('div');\n",
       "          docLink.innerHTML = docLinkHtml;\n",
       "          element.appendChild(docLink);\n",
       "        }\n",
       "      </script>\n",
       "    </div>\n",
       "  </div>\n",
       "  "
      ],
      "text/plain": [
       "   RowNumber  CustomerId   Surname  CreditScore Geography  Gender  Age  \\\n",
       "0          1    15634602  Hargrave          619    France  Female   42   \n",
       "1          2    15647311      Hill          608     Spain  Female   41   \n",
       "2          3    15619304      Onio          502    France  Female   42   \n",
       "3          4    15701354      Boni          699    France  Female   39   \n",
       "4          5    15737888  Mitchell          850     Spain  Female   43   \n",
       "\n",
       "   Tenure    Balance  NumOfProducts  HasCrCard  IsActiveMember  \\\n",
       "0     2.0       0.00              1          1               1   \n",
       "1     1.0   83807.86              1          0               1   \n",
       "2     8.0  159660.80              3          1               0   \n",
       "3     1.0       0.00              2          0               0   \n",
       "4     2.0  125510.82              1          1               1   \n",
       "\n",
       "   EstimatedSalary  Exited  \n",
       "0        101348.88       1  \n",
       "1        112542.58       0  \n",
       "2        113931.57       1  \n",
       "3         93826.63       0  \n",
       "4         79084.10       0  "
      ]
     },
     "execution_count": 17,
     "metadata": {},
     "output_type": "execute_result"
    }
   ],
   "source": [
    "data = pd.read_csv('https://code.s3.yandex.net/datasets/Churn.csv')\n",
    "data.info()\n",
    "data.head(5)"
   ]
  },
  {
   "cell_type": "code",
   "execution_count": 18,
   "metadata": {
    "colab": {
     "base_uri": "https://localhost:8080/"
    },
    "id": "vSuCzVQsnDUG",
    "outputId": "9fc60a34-edd7-413a-ba90-f849d6292292"
   },
   "outputs": [
    {
     "data": {
      "text/plain": [
       "France     5014\n",
       "Germany    2509\n",
       "Spain      2477\n",
       "Name: Geography, dtype: int64"
      ]
     },
     "execution_count": 18,
     "metadata": {},
     "output_type": "execute_result"
    }
   ],
   "source": [
    "data['Geography'].value_counts()"
   ]
  },
  {
   "cell_type": "markdown",
   "metadata": {
    "id": "wuj9hB_XPGnV"
   },
   "source": [
    "База данных представляет собой 10000 строк, пропуск данных есть только в столбце Tenure (сколько лет человек является клиентом банка). Можно предположить, что если данных об этом нет, то клиент является новым, можно проставить 0  "
   ]
  },
  {
   "cell_type": "code",
   "execution_count": 19,
   "metadata": {
    "id": "2hYaU6oao_xV"
   },
   "outputs": [],
   "source": [
    "data['Tenure'] = data['Tenure'].fillna(0)"
   ]
  },
  {
   "cell_type": "markdown",
   "metadata": {
    "id": "nfXr_SUBnVF0"
   },
   "source": [
    "\n",
    "База данных содержит 14 колонок, из которых 3 категориальных.\n",
    "В столбце Geography у нас есть 3 значения, Гендеров 2.  \n",
    "Применим прямое кодирование к обоим признакам т.к использовать порядковое мы не можем в связи с использованием линейных моделей.  \n",
    "Для избижания Dummy ловушек, избавимся от первых стоблцов. "
   ]
  },
  {
   "cell_type": "code",
   "execution_count": 20,
   "metadata": {
    "id": "AXQ78OcEsIHP"
   },
   "outputs": [],
   "source": [
    "data['Gender'] = pd.get_dummies(data['Gender'], drop_first = 1)"
   ]
  },
  {
   "cell_type": "code",
   "execution_count": 21,
   "metadata": {
    "colab": {
     "base_uri": "https://localhost:8080/",
     "height": 206
    },
    "id": "Z7DPcDnHRXAy",
    "outputId": "023c41bf-817f-4bcd-c2c2-832c05edad81"
   },
   "outputs": [
    {
     "data": {
      "text/html": [
       "\n",
       "  <div id=\"df-19eb861b-a04a-42bd-b4b6-622d0e7491fa\">\n",
       "    <div class=\"colab-df-container\">\n",
       "      <div>\n",
       "<style scoped>\n",
       "    .dataframe tbody tr th:only-of-type {\n",
       "        vertical-align: middle;\n",
       "    }\n",
       "\n",
       "    .dataframe tbody tr th {\n",
       "        vertical-align: top;\n",
       "    }\n",
       "\n",
       "    .dataframe thead th {\n",
       "        text-align: right;\n",
       "    }\n",
       "</style>\n",
       "<table border=\"1\" class=\"dataframe\">\n",
       "  <thead>\n",
       "    <tr style=\"text-align: right;\">\n",
       "      <th></th>\n",
       "      <th>RowNumber</th>\n",
       "      <th>CustomerId</th>\n",
       "      <th>Surname</th>\n",
       "      <th>CreditScore</th>\n",
       "      <th>Gender</th>\n",
       "      <th>Age</th>\n",
       "      <th>Tenure</th>\n",
       "      <th>Balance</th>\n",
       "      <th>NumOfProducts</th>\n",
       "      <th>HasCrCard</th>\n",
       "      <th>IsActiveMember</th>\n",
       "      <th>EstimatedSalary</th>\n",
       "      <th>Exited</th>\n",
       "      <th>Germany</th>\n",
       "      <th>Spain</th>\n",
       "    </tr>\n",
       "  </thead>\n",
       "  <tbody>\n",
       "    <tr>\n",
       "      <th>0</th>\n",
       "      <td>1</td>\n",
       "      <td>15634602</td>\n",
       "      <td>Hargrave</td>\n",
       "      <td>619</td>\n",
       "      <td>0</td>\n",
       "      <td>42</td>\n",
       "      <td>2.0</td>\n",
       "      <td>0.00</td>\n",
       "      <td>1</td>\n",
       "      <td>1</td>\n",
       "      <td>1</td>\n",
       "      <td>101348.88</td>\n",
       "      <td>1</td>\n",
       "      <td>0</td>\n",
       "      <td>0</td>\n",
       "    </tr>\n",
       "    <tr>\n",
       "      <th>1</th>\n",
       "      <td>2</td>\n",
       "      <td>15647311</td>\n",
       "      <td>Hill</td>\n",
       "      <td>608</td>\n",
       "      <td>0</td>\n",
       "      <td>41</td>\n",
       "      <td>1.0</td>\n",
       "      <td>83807.86</td>\n",
       "      <td>1</td>\n",
       "      <td>0</td>\n",
       "      <td>1</td>\n",
       "      <td>112542.58</td>\n",
       "      <td>0</td>\n",
       "      <td>0</td>\n",
       "      <td>1</td>\n",
       "    </tr>\n",
       "    <tr>\n",
       "      <th>2</th>\n",
       "      <td>3</td>\n",
       "      <td>15619304</td>\n",
       "      <td>Onio</td>\n",
       "      <td>502</td>\n",
       "      <td>0</td>\n",
       "      <td>42</td>\n",
       "      <td>8.0</td>\n",
       "      <td>159660.80</td>\n",
       "      <td>3</td>\n",
       "      <td>1</td>\n",
       "      <td>0</td>\n",
       "      <td>113931.57</td>\n",
       "      <td>1</td>\n",
       "      <td>0</td>\n",
       "      <td>0</td>\n",
       "    </tr>\n",
       "    <tr>\n",
       "      <th>3</th>\n",
       "      <td>4</td>\n",
       "      <td>15701354</td>\n",
       "      <td>Boni</td>\n",
       "      <td>699</td>\n",
       "      <td>0</td>\n",
       "      <td>39</td>\n",
       "      <td>1.0</td>\n",
       "      <td>0.00</td>\n",
       "      <td>2</td>\n",
       "      <td>0</td>\n",
       "      <td>0</td>\n",
       "      <td>93826.63</td>\n",
       "      <td>0</td>\n",
       "      <td>0</td>\n",
       "      <td>0</td>\n",
       "    </tr>\n",
       "    <tr>\n",
       "      <th>4</th>\n",
       "      <td>5</td>\n",
       "      <td>15737888</td>\n",
       "      <td>Mitchell</td>\n",
       "      <td>850</td>\n",
       "      <td>0</td>\n",
       "      <td>43</td>\n",
       "      <td>2.0</td>\n",
       "      <td>125510.82</td>\n",
       "      <td>1</td>\n",
       "      <td>1</td>\n",
       "      <td>1</td>\n",
       "      <td>79084.10</td>\n",
       "      <td>0</td>\n",
       "      <td>0</td>\n",
       "      <td>1</td>\n",
       "    </tr>\n",
       "  </tbody>\n",
       "</table>\n",
       "</div>\n",
       "      <button class=\"colab-df-convert\" onclick=\"convertToInteractive('df-19eb861b-a04a-42bd-b4b6-622d0e7491fa')\"\n",
       "              title=\"Convert this dataframe to an interactive table.\"\n",
       "              style=\"display:none;\">\n",
       "        \n",
       "  <svg xmlns=\"http://www.w3.org/2000/svg\" height=\"24px\"viewBox=\"0 0 24 24\"\n",
       "       width=\"24px\">\n",
       "    <path d=\"M0 0h24v24H0V0z\" fill=\"none\"/>\n",
       "    <path d=\"M18.56 5.44l.94 2.06.94-2.06 2.06-.94-2.06-.94-.94-2.06-.94 2.06-2.06.94zm-11 1L8.5 8.5l.94-2.06 2.06-.94-2.06-.94L8.5 2.5l-.94 2.06-2.06.94zm10 10l.94 2.06.94-2.06 2.06-.94-2.06-.94-.94-2.06-.94 2.06-2.06.94z\"/><path d=\"M17.41 7.96l-1.37-1.37c-.4-.4-.92-.59-1.43-.59-.52 0-1.04.2-1.43.59L10.3 9.45l-7.72 7.72c-.78.78-.78 2.05 0 2.83L4 21.41c.39.39.9.59 1.41.59.51 0 1.02-.2 1.41-.59l7.78-7.78 2.81-2.81c.8-.78.8-2.07 0-2.86zM5.41 20L4 18.59l7.72-7.72 1.47 1.35L5.41 20z\"/>\n",
       "  </svg>\n",
       "      </button>\n",
       "      \n",
       "  <style>\n",
       "    .colab-df-container {\n",
       "      display:flex;\n",
       "      flex-wrap:wrap;\n",
       "      gap: 12px;\n",
       "    }\n",
       "\n",
       "    .colab-df-convert {\n",
       "      background-color: #E8F0FE;\n",
       "      border: none;\n",
       "      border-radius: 50%;\n",
       "      cursor: pointer;\n",
       "      display: none;\n",
       "      fill: #1967D2;\n",
       "      height: 32px;\n",
       "      padding: 0 0 0 0;\n",
       "      width: 32px;\n",
       "    }\n",
       "\n",
       "    .colab-df-convert:hover {\n",
       "      background-color: #E2EBFA;\n",
       "      box-shadow: 0px 1px 2px rgba(60, 64, 67, 0.3), 0px 1px 3px 1px rgba(60, 64, 67, 0.15);\n",
       "      fill: #174EA6;\n",
       "    }\n",
       "\n",
       "    [theme=dark] .colab-df-convert {\n",
       "      background-color: #3B4455;\n",
       "      fill: #D2E3FC;\n",
       "    }\n",
       "\n",
       "    [theme=dark] .colab-df-convert:hover {\n",
       "      background-color: #434B5C;\n",
       "      box-shadow: 0px 1px 3px 1px rgba(0, 0, 0, 0.15);\n",
       "      filter: drop-shadow(0px 1px 2px rgba(0, 0, 0, 0.3));\n",
       "      fill: #FFFFFF;\n",
       "    }\n",
       "  </style>\n",
       "\n",
       "      <script>\n",
       "        const buttonEl =\n",
       "          document.querySelector('#df-19eb861b-a04a-42bd-b4b6-622d0e7491fa button.colab-df-convert');\n",
       "        buttonEl.style.display =\n",
       "          google.colab.kernel.accessAllowed ? 'block' : 'none';\n",
       "\n",
       "        async function convertToInteractive(key) {\n",
       "          const element = document.querySelector('#df-19eb861b-a04a-42bd-b4b6-622d0e7491fa');\n",
       "          const dataTable =\n",
       "            await google.colab.kernel.invokeFunction('convertToInteractive',\n",
       "                                                     [key], {});\n",
       "          if (!dataTable) return;\n",
       "\n",
       "          const docLinkHtml = 'Like what you see? Visit the ' +\n",
       "            '<a target=\"_blank\" href=https://colab.research.google.com/notebooks/data_table.ipynb>data table notebook</a>'\n",
       "            + ' to learn more about interactive tables.';\n",
       "          element.innerHTML = '';\n",
       "          dataTable['output_type'] = 'display_data';\n",
       "          await google.colab.output.renderOutput(dataTable, element);\n",
       "          const docLink = document.createElement('div');\n",
       "          docLink.innerHTML = docLinkHtml;\n",
       "          element.appendChild(docLink);\n",
       "        }\n",
       "      </script>\n",
       "    </div>\n",
       "  </div>\n",
       "  "
      ],
      "text/plain": [
       "   RowNumber  CustomerId   Surname  CreditScore  Gender  Age  Tenure  \\\n",
       "0          1    15634602  Hargrave          619       0   42     2.0   \n",
       "1          2    15647311      Hill          608       0   41     1.0   \n",
       "2          3    15619304      Onio          502       0   42     8.0   \n",
       "3          4    15701354      Boni          699       0   39     1.0   \n",
       "4          5    15737888  Mitchell          850       0   43     2.0   \n",
       "\n",
       "     Balance  NumOfProducts  HasCrCard  IsActiveMember  EstimatedSalary  \\\n",
       "0       0.00              1          1               1        101348.88   \n",
       "1   83807.86              1          0               1        112542.58   \n",
       "2  159660.80              3          1               0        113931.57   \n",
       "3       0.00              2          0               0         93826.63   \n",
       "4  125510.82              1          1               1         79084.10   \n",
       "\n",
       "   Exited  Germany  Spain  \n",
       "0       1        0      0  \n",
       "1       0        0      1  \n",
       "2       1        0      0  \n",
       "3       0        0      0  \n",
       "4       0        0      1  "
      ]
     },
     "execution_count": 21,
     "metadata": {},
     "output_type": "execute_result"
    }
   ],
   "source": [
    "Geography_ohe = pd.get_dummies(data['Geography'], drop_first = 1)\n",
    "data = data.drop(['Geography'], axis = 1)\n",
    "data = pd.merge(data,Geography_ohe, left_index=True, right_index = True)\n",
    "data.head(5)"
   ]
  },
  {
   "cell_type": "markdown",
   "metadata": {
    "id": "lPVCxGRjR-ii"
   },
   "source": [
    "Столбец Surname не представляет для нас интерес, так же как RowNumber\tи CustomerId т.к эти признаки отдельных лиц, а не класса (не)лояльных клиентов. "
   ]
  },
  {
   "cell_type": "code",
   "execution_count": 22,
   "metadata": {
    "id": "by-LPO82RrBr"
   },
   "outputs": [],
   "source": [
    "data = data.drop(['Surname','RowNumber','CustomerId'],axis = 1)"
   ]
  },
  {
   "cell_type": "markdown",
   "metadata": {
    "id": "VKLgkezlS5SM"
   },
   "source": [
    "*Хорошо бы в курсе на тренажёре об этом обратить внимание, а то сразу это непонятно. Возможно, об этом говорилось в модуле про категориальные данные, но тогда до ML было ещё далеко. *"
   ]
  },
  {
   "cell_type": "markdown",
   "metadata": {
    "id": "_XTN8S9Vk7P_"
   },
   "source": [
    "## Исследование задачи"
   ]
  },
  {
   "cell_type": "markdown",
   "metadata": {
    "id": "VLGujcU9v9PI"
   },
   "source": [
    "Сырые данные для обучения подготовили, теперь можно будет произвести разделение на обучающу, валидационную и тестовую выборки и обучить модели, не обращая внимание на дисбалансы классов. "
   ]
  },
  {
   "cell_type": "code",
   "execution_count": 23,
   "metadata": {
    "colab": {
     "base_uri": "https://localhost:8080/"
    },
    "id": "B9oHRDbTwXYX",
    "outputId": "8f3026e8-1d97-4a13-9521-a03203d95af4"
   },
   "outputs": [
    {
     "name": "stdout",
     "output_type": "stream",
     "text": [
      "(6000, 11)\n",
      "(6000,)\n",
      "(2000, 11)\n",
      "(2000, 11)\n"
     ]
    }
   ],
   "source": [
    "#features = data.drop(['Exited'], axis=1)\n",
    "#target = data['Exited']\n",
    "#print(features.shape)\n",
    "\n",
    "#features_train, features_valid_n_test, tagret_train, target_valid_n_test = train_test_split(features, target, test_size=0.4, random_state=12345)\n",
    "#features_valid, features_test, target_valid, target_test = train_test_split(features_valid_n_test,target_valid_n_test, test_size =0.5, random_state=12345)\n",
    "\n",
    "features_train, target_train, features_valid, target_valid, features_test, target_test = train_valid_test_split(data, target='Exited', train_size = 0.6, valid_size = 0.2, test_size=.2 ) \n",
    "\n",
    "print(features_train.shape)\n",
    "print(target_train.shape)\n",
    "print(features_valid.shape)\n",
    "print(features_test.shape)\n"
   ]
  },
  {
   "cell_type": "markdown",
   "metadata": {
    "id": "gCsPFeuPyJBZ"
   },
   "source": [
    "Можно ли поделить на обучающую, тестовую и валидационну выгрузку в одну стороку?"
   ]
  },
  {
   "cell_type": "markdown",
   "metadata": {
    "id": "rmvRaeumZRKJ"
   },
   "source": [
    "*Функция, безусловно, хорошая, но после ознакомления с ней я сильно зауважал документацию pandas и sklearn*"
   ]
  },
  {
   "cell_type": "markdown",
   "metadata": {
    "id": "CURLKpCa1k0I"
   },
   "source": [
    "Целевой признак у нас бинарный, так что мы решаем задачу класификации. Поэтому обучать будем модели класификации."
   ]
  },
  {
   "cell_type": "code",
   "execution_count": 24,
   "metadata": {
    "colab": {
     "base_uri": "https://localhost:8080/"
    },
    "id": "D6h1SJMDyjjg",
    "outputId": "eda2001d-21a9-4bc6-d447-3367bc10acbb"
   },
   "outputs": [
    {
     "name": "stdout",
     "output_type": "stream",
     "text": [
      "Лучшая модель Дерева Решений DecisionTreeClassifier(max_depth=6, min_samples_leaf=9, random_state=12345)\n",
      "      Лучшая f1 0.5598705501618123 , roc_auc 0.827359375 \n"
     ]
    }
   ],
   "source": [
    "best_DT_row_nb_f1 = 0\n",
    "best_DT_row_depth = 0\n",
    "best_DT_row_leaf = 0\n",
    "best_DT_row_model = None\n",
    "\n",
    "for depth in range(1, 101, 5):\n",
    "  for leaf in range(2,10):\n",
    "    model = DecisionTreeClassifier(max_depth = depth, min_samples_leaf = leaf, random_state = 12345)\n",
    "    model.fit(features_train, target_train)\n",
    "    prediction = model.predict(features_valid)\n",
    "    f1 = f1_score(target_valid, prediction)\n",
    "    if f1 > best_DT_row_nb_f1:\n",
    "      best_DT_row_nb_f1 = f1\n",
    "      best_DT_row_depth = depth\n",
    "      best_DT_row_leaf = leaf\n",
    "      best_DT_row_model = model\n",
    "\n",
    "\n",
    "best_DT_prediction = best_DT_row_model.predict_proba(features_valid)[:,1]\n",
    "best_DT_row_nb_auc = roc_auc_score(target_valid, best_DT_prediction)\n",
    "\n",
    "print(f'''Лучшая модель Дерева Решений {best_DT_row_model}\n",
    "      Лучшая f1 {best_DT_row_nb_f1} , roc_auc {best_DT_row_nb_auc} ''')\n"
   ]
  },
  {
   "cell_type": "code",
   "execution_count": 25,
   "metadata": {
    "colab": {
     "base_uri": "https://localhost:8080/"
    },
    "id": "fJJGxFrxCVXM",
    "outputId": "36815111-67f5-4df9-eea9-1769d446e6b0"
   },
   "outputs": [
    {
     "name": "stdout",
     "output_type": "stream",
     "text": [
      "Лучшая модель Случайного Леса RandomForestClassifier(max_depth=16, n_estimators=51, random_state=12345)\n",
      "      Лучшая f1 0.588235294117647 , roc_auc 0.8463804687500001 \n"
     ]
    }
   ],
   "source": [
    "best_RFC_row_nb_f1 = 0\n",
    "best_RFC_row_depth = 0\n",
    "best_RFC_row_est = 0\n",
    "best_RFC_row_model = None\n",
    "\n",
    "for est in range(1,101,10):\n",
    "  for depth in range(1,21,5):\n",
    "    model = RandomForestClassifier(n_estimators = est, max_depth = depth, random_state=12345)\n",
    "    model.fit(features_train, target_train)\n",
    "    prediction = model.predict(features_valid)\n",
    "    f1 = f1_score(target_valid, prediction)\n",
    "    if f1 > best_RFC_row_nb_f1:\n",
    "      best_RFC_row_nb_f1 = f1\n",
    "      best_RFC_row_depth = depth\n",
    "      best_RFC_row_est = est\n",
    "      best_RFC_row_model = model\n",
    "\n",
    "\n",
    "best_RFC_prediction = best_RFC_row_model.predict_proba(features_valid)[:,1]\n",
    "best_RFC_row_nb_auc = roc_auc_score(target_valid, best_RFC_prediction)\n",
    "\n",
    "print(f'''Лучшая модель Случайного Леса {best_RFC_row_model}\n",
    "      Лучшая f1 {best_RFC_row_nb_f1} , roc_auc {best_RFC_row_nb_auc} ''')"
   ]
  },
  {
   "cell_type": "code",
   "execution_count": 26,
   "metadata": {
    "colab": {
     "base_uri": "https://localhost:8080/"
    },
    "id": "j6JMFtYrF7cu",
    "outputId": "375c8545-99e4-4c6b-db6d-bd1c4fdffc8b"
   },
   "outputs": [
    {
     "name": "stdout",
     "output_type": "stream",
     "text": [
      "Лучшая модель Логистической регрессии LogisticRegression(solver='liblinear'), best_LR_solver=liblinear, iter = 0 \n",
      "      Лучшая f1 0.0944206008583691 , roc_auc 0.6489296874999999 \n"
     ]
    }
   ],
   "source": [
    "best_LR_row_nb_f1 = 0\n",
    "best_LR_solver = None\n",
    "best_LR_max_iter = 0\n",
    "best_LR_row_model = None\n",
    "\n",
    "solvers = ['liblinear', 'lbfgs', 'sag', 'saga'] #'newton-cg'\n",
    "\n",
    "for solver_i in solvers:\n",
    "  for iter in range(100, 500 , 20):\n",
    "    model = LogisticRegression(solver = solver_i, max_iter= iter)\n",
    "    model.fit(features_train, target_train)\n",
    "    prediction = model.predict(features_valid)\n",
    "    f1 = f1_score(target_valid, prediction)\n",
    "    if f1 > best_LR_row_nb_f1: \n",
    "      best_LR_row_nb_f1 = f1\n",
    "      best_LR_solver = solver_i\n",
    "      best_LR_max_iter = 0\n",
    "      best_LR_row_model = model\n",
    "\n",
    "\n",
    "best_LR_pred = best_LR_row_model.predict_proba(features_valid)[:,1]\n",
    "best_LR_row_nb_auc = roc_auc_score(target_valid, best_LR_pred)\n",
    "\n",
    "print(f'''Лучшая модель Логистической регрессии {best_LR_row_model}, best_LR_solver={best_LR_solver}, iter = {best_LR_max_iter} \n",
    "      Лучшая f1 {best_LR_row_nb_f1} , roc_auc {best_LR_row_nb_auc} ''')"
   ]
  },
  {
   "cell_type": "markdown",
   "metadata": {
    "id": "n02puDhRzL26"
   },
   "source": [
    "Проверим лучшие модели."
   ]
  },
  {
   "cell_type": "markdown",
   "metadata": {
    "id": "fexwjBLXzVYU"
   },
   "source": [
    " *Лучший показатель F1  на сырых данных на валидационной выборке без учёта дисбаланса классов  составил 0.49 для модели Дерева Решений.  \n",
    "Очевидно, что без дополнительной работы над данными, получить показатель в 0.57 не выйдет.*"
   ]
  },
  {
   "cell_type": "markdown",
   "metadata": {
    "id": "U1JHV6uMaJAv"
   },
   "source": [
    "Лучший показатель F1 на сырых данных без учёта дисбаланса, но с убранными неинформативными признаками составил 0.54 для модели Случайного Леса. Roc_auc при этом составило 0.47.   \n",
    "Можем наблюдать, что удаление неинфорамцинных признаков улучшило работу модели."
   ]
  },
  {
   "cell_type": "markdown",
   "metadata": {
    "id": "yUfJuUjrk7QA"
   },
   "source": [
    "## Борьба с дисбалансом"
   ]
  },
  {
   "cell_type": "markdown",
   "metadata": {
    "id": "pO42R2LJIakQ"
   },
   "source": [
    "Проведём обучение на той  же выбрке, но с параметном class_weight='balanced'"
   ]
  },
  {
   "cell_type": "code",
   "execution_count": 27,
   "metadata": {
    "colab": {
     "base_uri": "https://localhost:8080/"
    },
    "collapsed": true,
    "id": "DWa8dTf8IpWk",
    "outputId": "3e3e3f08-0a0a-4650-8a3b-261c3f81104a"
   },
   "outputs": [
    {
     "name": "stdout",
     "output_type": "stream",
     "text": [
      "Лучшая модель Дерева Решений DecisionTreeClassifier(class_weight='balanced', max_depth=6, min_samples_leaf=8,\n",
      "                       random_state=12345)\n",
      "      Лучшая f1 0.5574977000919964 , roc_auc 0.8368484374999999 \n"
     ]
    }
   ],
   "source": [
    "best_DT_row_b_f1 = 0\n",
    "best_DT_row_depth = 0\n",
    "best_DT_row_leaf = 0\n",
    "best_DT_row_model = None\n",
    "\n",
    "for depth in range(1, 101, 5):\n",
    "  for leaf in range(2,10):\n",
    "    model = DecisionTreeClassifier(max_depth = depth, min_samples_leaf = leaf, random_state = 12345,class_weight='balanced' )\n",
    "    model.fit(features_train, target_train)\n",
    "    prediction = model.predict(features_valid)\n",
    "    f1 = f1_score(target_valid, prediction)\n",
    "    if f1 > best_DT_row_b_f1:\n",
    "      best_DT_row_b_f1 = f1\n",
    "      best_DT_row_depth = depth\n",
    "      best_DT_row_leaf = leaf\n",
    "      best_DT_row_model = model\n",
    "\n",
    "\n",
    "best_DT_prediction = best_DT_row_model.predict_proba(features_valid)[:,1]\n",
    "best_DT_row_b_auc = roc_auc_score(target_valid, best_DT_prediction)\n",
    "\n",
    "print(f'''Лучшая модель Дерева Решений {best_DT_row_model}\n",
    "      Лучшая f1 {best_DT_row_b_f1} , roc_auc {best_DT_row_b_auc} ''')\n"
   ]
  },
  {
   "cell_type": "code",
   "execution_count": 28,
   "metadata": {
    "colab": {
     "base_uri": "https://localhost:8080/"
    },
    "collapsed": true,
    "id": "F6MTXcRyIwg3",
    "outputId": "ba69e885-0160-4cdd-f89e-a53ed5c06e5d"
   },
   "outputs": [
    {
     "name": "stdout",
     "output_type": "stream",
     "text": [
      "Лучшая модель Случайного Леса RandomForestClassifier(class_weight='balanced', max_depth=11, n_estimators=71,\n",
      "                       random_state=12345)\n",
      "      Лучшая f1 0.6157894736842106 , roc_auc 0.84773125 \n"
     ]
    }
   ],
   "source": [
    "best_RFC_row_b_f1 = 0\n",
    "best_RFC_row_depth = 0\n",
    "best_RFC_row_est = 0\n",
    "best_RFC_row_model = None\n",
    "\n",
    "for est in range(1,101,10):\n",
    "  for depth in range(1,21,5):\n",
    "    model = RandomForestClassifier(n_estimators = est, max_depth = depth, random_state=12345, class_weight='balanced')\n",
    "    model.fit(features_train, target_train)\n",
    "    prediction = model.predict(features_valid)\n",
    "    f1 = f1_score(target_valid, prediction)\n",
    "    if f1 > best_RFC_row_b_f1:\n",
    "      best_RFC_row_b_f1 = f1\n",
    "      best_RFC_row_depth = depth\n",
    "      best_RFC_row_est = est\n",
    "      best_RFC_row_model = model\n",
    "\n",
    "\n",
    "best_RFC_prediction = best_RFC_row_model.predict_proba(features_valid)[:,1]\n",
    "best_RFC_row_b_auc = roc_auc_score(target_valid, best_RFC_prediction)\n",
    "\n",
    "print(f'''Лучшая модель Случайного Леса {best_RFC_row_model}\n",
    "      Лучшая f1 {best_RFC_row_b_f1} , roc_auc {best_RFC_row_b_auc} ''')"
   ]
  },
  {
   "cell_type": "code",
   "execution_count": 29,
   "metadata": {
    "colab": {
     "base_uri": "https://localhost:8080/"
    },
    "collapsed": true,
    "id": "ouWIS76AI7_C",
    "outputId": "a91b4335-008a-405c-a247-34d4e72b69f3"
   },
   "outputs": [
    {
     "name": "stdout",
     "output_type": "stream",
     "text": [
      "Лучшая модель Логистической регрессии LogisticRegression(class_weight='balanced', solver='liblinear'), best_LR_solver=liblinear, iter = 100 \n",
      "      Лучшая f1 0.43781942078364566 , roc_auc 0.709271875 \n"
     ]
    }
   ],
   "source": [
    "best_LR_row_b_f1 = 0\n",
    "best_LR_solver = None\n",
    "best_LR_max_iter = 0\n",
    "best_LR_row_model = None\n",
    "\n",
    "solvers = ['liblinear', 'lbfgs', 'sag', 'saga'] #'newton-cg'\n",
    "\n",
    "for solver_i in solvers:\n",
    "  for iter in range(100, 500 , 20):\n",
    "    model = LogisticRegression(solver = solver_i, max_iter= iter, class_weight='balanced')\n",
    "    model.fit(features_train, target_train)\n",
    "    prediction = model.predict(features_valid)\n",
    "    f1 = f1_score(target_valid, prediction)\n",
    "    if f1 > best_LR_row_b_f1: \n",
    "      best_LR_row_b_f1 = f1\n",
    "      best_LR_solver = solver_i\n",
    "      best_LR_max_iter = iter\n",
    "      best_LR_row_model = model\n",
    "\n",
    "\n",
    "best_LR_pred = best_LR_row_model.predict_proba(features_valid)[:,1]\n",
    "best_LR_row_b_auc = roc_auc_score(target_valid, best_LR_pred)\n",
    "\n",
    "print(f'''Лучшая модель Логистической регрессии {best_LR_row_model}, best_LR_solver={best_LR_solver}, iter = {best_LR_max_iter} \n",
    "      Лучшая f1 {best_LR_row_b_f1} , roc_auc {best_LR_row_b_auc} ''')"
   ]
  },
  {
   "cell_type": "code",
   "execution_count": 30,
   "metadata": {
    "colab": {
     "base_uri": "https://localhost:8080/"
    },
    "id": "t8V7x5qUJQGk",
    "outputId": "215f8949-643d-476d-9a1c-8c2a38487e23"
   },
   "outputs": [
    {
     "name": "stdout",
     "output_type": "stream",
     "text": [
      "Показатели DecisionTreeClassifier(class_weight='balanced', max_depth=6, min_samples_leaf=8,\n",
      "                       random_state=12345) на тестовой выборке С взвешиванием:\n",
      "  F1 =0.5574977000919964\n",
      "  roc_auc =0.4893691975816667\n",
      "  \n",
      "  \n",
      "Показатели RandomForestClassifier(class_weight='balanced', max_depth=11, n_estimators=71,\n",
      "                       random_state=12345) на тестовой выборке С взвешиванием:\n",
      "  F1 =0.6157894736842106\n",
      "  roc_auc =0.48830184493104933\n",
      "  \n",
      "  \n",
      "Показатели LogisticRegression(class_weight='balanced', solver='liblinear') на тестовой выборке С взвешиванием:\n",
      "  F1 =0.43781942078364566\n",
      "  roc_auc =0.5029659511506271\n",
      "  \n",
      "  \n"
     ]
    }
   ],
   "source": [
    "models =[best_DT_row_model,best_RFC_row_model, best_LR_row_model]\n",
    "\n",
    "for model in models:\n",
    "  pred = model.predict(features_valid)\n",
    "  prob = model.predict_proba(features_valid)[:,1]\n",
    "  f1 = f1_score(target_valid, pred)\n",
    "  roc_auc = roc_auc_score(target_test, prob)\n",
    "  print(f'''Показатели {model} на тестовой выборке С взвешиванием:\n",
    "  F1 ={f1}\n",
    "  roc_auc ={roc_auc}\n",
    "  \n",
    "  ''')"
   ]
  },
  {
   "cell_type": "markdown",
   "metadata": {
    "id": "i4BpK7MsI7sb"
   },
   "source": [
    "С параметром class_weight='balanced' качество моделей заметнор выросло.  \n",
    "Для моджели Случайного Леса F1 составила приемлимые 0.61.  \n",
    "Однако, не будем на этом останавливаться и попробуем устранить дисбаланс классов в данных. "
   ]
  },
  {
   "cell_type": "markdown",
   "metadata": {
    "id": "68fz6cJZM-Gd"
   },
   "source": [
    "# Пере - подготовка данных к обучению."
   ]
  },
  {
   "cell_type": "markdown",
   "metadata": {
    "id": "qrcvxh1HemFM"
   },
   "source": [
    "В рамках борьбы с дисбалансами классов, сравним работу атрибута class_weight='balanced'  с обучением на подготовленных данных.  \n",
    "Для этого отмасштабируем признаки и вручную удалим дисбаланс классов."
   ]
  },
  {
   "cell_type": "code",
   "execution_count": 31,
   "metadata": {
    "id": "WA2kefJV5WfM"
   },
   "outputs": [],
   "source": [
    "#numeric = ['CreditScore','Age', 'Tenure','Balance', 'NumOfProducts', 'EstimatedSalary'  ]\n",
    "#scaler = StandardScaler()\n",
    "#scaler.fit(features_train[numeric])\n",
    "\n",
    "#features_train.loc[:,numeric] = scaler.transform(features_train[numeric])\n",
    "#features_valid.loc[:,numeric] = scaler.transform(features_valid[numeric])"
   ]
  },
  {
   "cell_type": "markdown",
   "metadata": {
    "id": "s-5V1Ah7vWnK"
   },
   "source": [
    "Масштабирование данных в данном работе приводит к сильному проседанию метрик. Поэтому её не используем."
   ]
  },
  {
   "cell_type": "code",
   "execution_count": 32,
   "metadata": {
    "colab": {
     "base_uri": "https://localhost:8080/"
    },
    "id": "E4tCApy55F2C",
    "outputId": "8ba7a9fa-98a1-4761-bfe6-aa779b14fa1f"
   },
   "outputs": [
    {
     "data": {
      "text/plain": [
       "0    0.8\n",
       "1    0.2\n",
       "Name: Exited, dtype: float64"
      ]
     },
     "execution_count": 32,
     "metadata": {},
     "output_type": "execute_result"
    }
   ],
   "source": [
    "target_valid.value_counts(normalize=1)"
   ]
  },
  {
   "cell_type": "markdown",
   "metadata": {
    "id": "KYKMcTEY6vDN"
   },
   "source": [
    "Мы видим, что у нас наблюдается дисбаланс классов - 0 в 4 раза больше, чем класса 1. Увеличим долю положительных результатов."
   ]
  },
  {
   "cell_type": "code",
   "execution_count": 33,
   "metadata": {
    "id": "n9WlMG9q9Cx2"
   },
   "outputs": [],
   "source": [
    "def upsampling(features, target, repeat):\n",
    "  features_zero = features[target==0]\n",
    "  features_ones = features[target==1]\n",
    "  target_zero = target[target==0]\n",
    "  target_ones = target[target==1]\n",
    "\n",
    "  features_up = pd.concat([features_zero] + [features_ones] * repeat)\n",
    "  target_up =pd.concat([target_zero] + [target_ones] * repeat )\n",
    "  features_upsampled, target_upsampled = shuffle(features_up, target_up, random_state=12345)\n",
    "  return features_upsampled, target_upsampled"
   ]
  },
  {
   "cell_type": "code",
   "execution_count": 34,
   "metadata": {
    "id": "TPHrpCmj-xp-"
   },
   "outputs": [],
   "source": [
    "features_train, target_train = upsampling(features_train, target_train, 4)"
   ]
  },
  {
   "cell_type": "code",
   "execution_count": 35,
   "metadata": {
    "colab": {
     "base_uri": "https://localhost:8080/"
    },
    "id": "W6oKcCUU_E5d",
    "outputId": "be30b1d3-5a87-4a00-c8b0-5aeb14d105bf"
   },
   "outputs": [
    {
     "data": {
      "text/plain": [
       "1    0.50363\n",
       "0    0.49637\n",
       "Name: Exited, dtype: float64"
      ]
     },
     "execution_count": 35,
     "metadata": {},
     "output_type": "execute_result"
    }
   ],
   "source": [
    "target_train.value_counts(normalize=1)"
   ]
  },
  {
   "cell_type": "markdown",
   "metadata": {
    "id": "gnmVcGTYAAVF"
   },
   "source": [
    "С подготовленными данными нужно будет повторить процес подбора лучших гиперпараметров."
   ]
  },
  {
   "cell_type": "code",
   "execution_count": 36,
   "metadata": {
    "colab": {
     "base_uri": "https://localhost:8080/"
    },
    "id": "HWtlQKstAIwT",
    "outputId": "2299e34c-43f3-4799-bd85-b1389ef1336d"
   },
   "outputs": [
    {
     "name": "stdout",
     "output_type": "stream",
     "text": [
      "Лучшая модель Дерева Решений DecisionTreeClassifier(max_depth=6, min_samples_leaf=9, random_state=12345)\n",
      "      Лучшая f1 0.5566820276497695 , roc_auc 0.8336718750000001 \n"
     ]
    }
   ],
   "source": [
    "best_DT_fix_f1 = 0\n",
    "best_DT_fix_depth = 0\n",
    "best_DT_fix_leaf = 0\n",
    "best_DT_fix_model = None\n",
    "\n",
    "for depth in range(1, 101, 5):\n",
    "  for leaf in range(2,10):\n",
    "    model = DecisionTreeClassifier(max_depth = depth, min_samples_leaf = leaf, random_state = 12345)\n",
    "    model.fit(features_train, target_train)\n",
    "    prediction = model.predict(features_valid)\n",
    "    f1 = f1_score(target_valid, prediction)\n",
    "    if f1 > best_DT_fix_f1:\n",
    "      best_DT_fix_f1 = f1\n",
    "      best_DT_fix_depth = depth\n",
    "      best_DT_fix_leaf = leaf\n",
    "      best_DT_fix_model = model\n",
    "\n",
    "best_DT_prediction = best_DT_fix_model.predict_proba(features_valid)[:,1]\n",
    "best_DT_fix_auc = roc_auc_score(target_valid, best_DT_prediction)\n",
    "\n",
    "print(f'''Лучшая модель Дерева Решений {best_DT_fix_model}\n",
    "      Лучшая f1 {best_DT_fix_f1} , roc_auc {best_DT_fix_auc} ''')\n"
   ]
  },
  {
   "cell_type": "code",
   "execution_count": 37,
   "metadata": {
    "colab": {
     "base_uri": "https://localhost:8080/"
    },
    "id": "hCmn_QKpBDGT",
    "outputId": "cc095a12-8e62-4f1b-cb00-3cb615aa5064"
   },
   "outputs": [
    {
     "name": "stdout",
     "output_type": "stream",
     "text": [
      "Лучшая модель Случайного Леса RandomForestClassifier(max_depth=11, n_estimators=91, random_state=12345)\n",
      "      Лучшая f1 0.6225319396051103 , roc_auc 0.8485093749999999 \n"
     ]
    }
   ],
   "source": [
    "best_RFC_fix_f1 = 0\n",
    "best_RFC_fix_depth = 0\n",
    "best_RFC_fix_est = 0\n",
    "best_RFC_fix_model = None\n",
    "\n",
    "for est in range(1,101,10):\n",
    "  for depth in range(1,21,5):\n",
    "    model = RandomForestClassifier(n_estimators = est, max_depth = depth, random_state=12345)\n",
    "    model.fit(features_train, target_train)\n",
    "    prediction = model.predict(features_valid)\n",
    "    f1 = f1_score(target_valid, prediction)\n",
    "    if f1 > best_RFC_fix_f1:\n",
    "      best_RFC_fix_f1 = f1\n",
    "      best_RFC_fix_depth = depth\n",
    "      best_RFC_fix_est = est\n",
    "      best_RFC_fix_model = model\n",
    "\n",
    "best_RFC_prediction = best_RFC_fix_model.predict_proba(features_valid)[:,1]\n",
    "best_RFC_fix_auc = roc_auc_score(target_valid, best_RFC_prediction)\n",
    "\n",
    "print(f'''Лучшая модель Случайного Леса {best_RFC_fix_model}\n",
    "      Лучшая f1 {best_RFC_fix_f1} , roc_auc {best_RFC_fix_auc} ''')\n"
   ]
  },
  {
   "cell_type": "code",
   "execution_count": 38,
   "metadata": {
    "colab": {
     "base_uri": "https://localhost:8080/"
    },
    "id": "Ex8MMEqeBMHt",
    "outputId": "04595bfd-231b-4538-a932-ff95df4b3ca9",
    "scrolled": true
   },
   "outputs": [
    {
     "name": "stdout",
     "output_type": "stream",
     "text": [
      "Лучшая модель Логистической регрессии LogisticRegression(solver='liblinear'), best_LR_solver=liblinear, iter = 100 \n",
      "      Лучшая f1 0.42798353909465014 , roc_auc 0.6942234375 \n"
     ]
    }
   ],
   "source": [
    "best_LR_fix_f1 = 0\n",
    "best_LR_solver = None\n",
    "best_LR_max_iter = 0\n",
    "best_LR_fix_model = None\n",
    "\n",
    "solvers = ['liblinear', 'lbfgs', 'sag', 'saga'] #'newton-cg',\n",
    "\n",
    "for solver_i in solvers:\n",
    "  for iter in range(100, 501 , 20):\n",
    "    model = LogisticRegression(solver = solver_i, max_iter= iter)\n",
    "    model.fit(features_train, target_train)\n",
    "    prediction = model.predict(features_valid)\n",
    "    f1 = f1_score(target_valid, prediction)\n",
    "    if f1 > best_LR_fix_f1: \n",
    "      best_LR_fix_f1 = f1\n",
    "      best_LR_solver = solver_i\n",
    "      best_LR_max_iter = iter\n",
    "      best_LR_fix_model = model\n",
    "\n",
    "best_LR_pred = best_LR_fix_model.predict_proba(features_valid)[:,1]\n",
    "best_LR_fix_auc = roc_auc_score(target_valid, best_LR_pred)\n",
    "\n",
    "print(f'''Лучшая модель Логистической регрессии {best_LR_fix_model}, best_LR_solver={best_LR_solver}, iter = {best_LR_max_iter} \n",
    "      Лучшая f1 {best_LR_fix_f1} , roc_auc {best_LR_fix_auc} ''')\n"
   ]
  },
  {
   "cell_type": "code",
   "execution_count": 39,
   "metadata": {
    "colab": {
     "base_uri": "https://localhost:8080/"
    },
    "id": "ZwoY3x9T4sVl",
    "outputId": "020a2c39-9b50-4c98-a87f-dc0b35053b24"
   },
   "outputs": [
    {
     "name": "stdout",
     "output_type": "stream",
     "text": [
      "Показатели DecisionTreeClassifier(max_depth=6, min_samples_leaf=9, random_state=12345) на вплидационной выборке с обработкой данных:\n",
      "  F1 = 0.5566820276497695\n",
      "  roc_auc = 0.4839035125196569\n",
      "  \n",
      "  \n",
      "Показатели RandomForestClassifier(max_depth=11, n_estimators=91, random_state=12345) на вплидационной выборке с обработкой данных:\n",
      "  F1 = 0.6225319396051103\n",
      "  roc_auc = 0.4853111587821986\n",
      "  \n",
      "  \n",
      "Показатели LogisticRegression(solver='liblinear') на вплидационной выборке с обработкой данных:\n",
      "  F1 = 0.42798353909465014\n",
      "  roc_auc = 0.5021564421178555\n",
      "  \n",
      "  \n"
     ]
    }
   ],
   "source": [
    "models =[best_DT_fix_model,best_RFC_fix_model, best_LR_fix_model]\n",
    "\n",
    "for model in models:\n",
    "  pred = model.predict(features_valid)\n",
    "  prob = model.predict_proba(features_valid)[:,1]\n",
    "  f1 = f1_score(target_valid, pred)\n",
    "  roc_auc = roc_auc_score(target_test, prob)\n",
    "  print(f'''Показатели {model} на вплидационной выборке с обработкой данных:\n",
    "  F1 = {f1}\n",
    "  roc_auc = {roc_auc}\n",
    "  \n",
    "  ''')"
   ]
  },
  {
   "cell_type": "markdown",
   "metadata": {
    "id": "o9bInJO36bmT"
   },
   "source": [
    "Лучшая модель на выборке с обработкой данных по прежнему модель Случайного Дерева. F1 "
   ]
  },
  {
   "cell_type": "markdown",
   "metadata": {
    "id": "n2MkCUfj4HEv"
   },
   "source": [
    "На валидационной выборке f1 у модели Случайного Леса смогла составить аж 0.64, что довольно сильно больше, чем "
   ]
  },
  {
   "cell_type": "markdown",
   "metadata": {
    "id": "CHT2fFGpk7QA"
   },
   "source": [
    "## Тестирование модели"
   ]
  },
  {
   "cell_type": "code",
   "execution_count": 40,
   "metadata": {
    "colab": {
     "base_uri": "https://localhost:8080/"
    },
    "id": "B2ujphO2k7QA",
    "outputId": "3ba70b62-23ee-4440-a791-0379f3246437"
   },
   "outputs": [
    {
     "name": "stdout",
     "output_type": "stream",
     "text": [
      "Показатели DecisionTreeClassifier(max_depth=6, min_samples_leaf=9, random_state=12345) на тестовой выборке:\n",
      "  F1 =0.5566286215978928\n",
      "  roc_auc =0.8214762746394312\n",
      "  \n",
      "  \n",
      "Показатели RandomForestClassifier(max_depth=11, n_estimators=91, random_state=12345) на тестовой выборке:\n",
      "  F1 =0.6002317497103128\n",
      "  roc_auc =0.8473146036928604\n",
      "  \n",
      "  \n",
      "Показатели RandomForestClassifier(class_weight='balanced', max_depth=11, n_estimators=71,\n",
      "                       random_state=12345) на тестовой выборке:\n",
      "  F1 =0.5921219822109276\n",
      "  roc_auc =0.8461123328701143\n",
      "  \n",
      "  \n",
      "Показатели LogisticRegression(solver='liblinear') на тестовой выборке:\n",
      "  F1 =0.4275303643724696\n",
      "  roc_auc =0.6846197781045796\n",
      "  \n",
      "  \n",
      "Показатели DummyClassifier(strategy='stratified') на тестовой выборке:\n",
      "  F1 =0.2965565706254392\n",
      "  roc_auc =0.5140689671714105\n",
      "  \n",
      "  \n",
      "Показатели constant_model на тестовой выборке:\n",
      "F1 =0.3491539413949649\n",
      "roc_auc =0.5\n"
     ]
    }
   ],
   "source": [
    "dummy_model = DummyClassifier(strategy = 'stratified' )\n",
    "dummy_model.fit(features_train, target_train)\n",
    "\n",
    "\n",
    "constant_model = pd.Series([1] * len(target_test))\n",
    "\n",
    "models =[best_DT_fix_model,best_RFC_fix_model, best_RFC_row_model, best_LR_fix_model, dummy_model]\n",
    "\n",
    "for model in models:\n",
    "  pred = model.predict(features_test)\n",
    "  prob = model.predict_proba(features_test)[:,1]\n",
    "  f1 = f1_score(target_test, pred)\n",
    "  roc_auc = roc_auc_score(target_test, prob)\n",
    "  print(f'''Показатели {model} на тестовой выборке:\n",
    "  F1 ={f1}\n",
    "  roc_auc ={roc_auc}\n",
    "  \n",
    "  ''')\n",
    "\n",
    "print(f'''Показатели constant_model на тестовой выборке:\n",
    "F1 ={f1_score(target_test, constant_model)}\n",
    "roc_auc ={roc_auc_score(target_test, constant_model)}''')\n"
   ]
  },
  {
   "cell_type": "markdown",
   "metadata": {
    "id": "HbEK6-CMxS5o"
   },
   "source": [
    "Хотя на валидационной выборке модель, обученная на \"сырых\" данных с атрибутом class_weight='balanced'была чуть лучше модели, обученной на данных с \"ручным\" исправлением дисбалансов классов, на тестовой выборке модель, обученная на обработанной выборке оказалась лучше.  \n",
    "Можем наблюдать, что для модели Случайного Леса f1- метрика и roc_auc растут почти одинакого.  "
   ]
  },
  {
   "cell_type": "code",
   "execution_count": 41,
   "metadata": {
    "id": "Bdq96HF-zf1K"
   },
   "outputs": [],
   "source": [
    "importances = best_RFC_fix_model.feature_importances_\n",
    "vazhno = pd.Series(importances, index =features_test.columns)"
   ]
  },
  {
   "cell_type": "code",
   "execution_count": 42,
   "metadata": {
    "colab": {
     "base_uri": "https://localhost:8080/",
     "height": 354
    },
    "id": "6m3HNT3I1fGw",
    "outputId": "f6202791-2433-49f7-b1ab-3f33c3995c4d"
   },
   "outputs": [
    {
     "data": {
      "text/plain": [
       "<matplotlib.axes._subplots.AxesSubplot at 0x7f7168ee9ac0>"
      ]
     },
     "execution_count": 42,
     "metadata": {},
     "output_type": "execute_result"
    },
    {
     "data": {
      "image/png": "[encoded data removed]",
      "text/plain": [
       "<Figure size 432x288 with 1 Axes>"
      ]
     },
     "metadata": {
      "needs_background": "light"
     },
     "output_type": "display_data"
    }
   ],
   "source": [
    "vazhno.plot(kind='bar') "
   ]
  },
  {
   "cell_type": "markdown",
   "metadata": {
    "id": "GAABuyVx2SZH"
   },
   "source": [
    "Как видим, самым важным показателем в модели выступает возраст, вторым - количество уже действующих кредитных продуктов."
   ]
  },
  {
   "cell_type": "markdown",
   "metadata": {
    "id": "baUWqaNP57pK"
   },
   "source": [
    "Посмотрим на динамику F1 и roc_auc метрик в зависимости от балансирования классов на валидационной выгрузке."
   ]
  },
  {
   "cell_type": "code",
   "execution_count": 57,
   "metadata": {
    "id": "oKtdqGxZ6GTn"
   },
   "outputs": [],
   "source": [
    "f1 =[best_DT_row_nb_f1, best_RFC_row_nb_f1, best_LR_row_nb_f1, best_DT_row_b_f1, best_RFC_row_b_f1,best_LR_row_b_f1,best_DT_fix_f1, best_RFC_fix_f1, best_LR_fix_f1 ]\n",
    "roc = [best_DT_row_nb_auc, best_RFC_row_nb_auc, best_LR_row_nb_auc, best_DT_row_b_auc, best_RFC_row_b_auc,best_LR_row_b_auc,best_DT_fix_auc, best_RFC_fix_auc, best_LR_fix_auc ]\n",
    "name = [\"best_DT_row_nb\", \"best_RFC_row_nb\", \"best_LR_row_nb\", \"best_DT_row_b\", \"best_RFC_row_b\",\"best_LR_row_b\", \"best_DT_fix\", \"best_RFC_fix\", \"best_LR_fix\"]"
   ]
  },
  {
   "cell_type": "code",
   "execution_count": 76,
   "metadata": {
    "id": "R_Jt3uAG9B-O"
   },
   "outputs": [],
   "source": [
    "f1_vs_roc = pd.DataFrame(  index = [name],  columns = ['F1'])\n",
    "f1_vs_roc['F1'] = f1\n",
    "f1_vs_roc['ROC_AUC'] =roc\n",
    "f1_vs_roc['Delta'] = f1_vs_roc['ROC_AUC'] - f1_vs_roc['F1']"
   ]
  },
  {
   "cell_type": "code",
   "execution_count": 77,
   "metadata": {
    "colab": {
     "base_uri": "https://localhost:8080/",
     "height": 332
    },
    "id": "ysoKZw_g9grI",
    "outputId": "5402c4de-dd9b-442f-bb4d-3a88b87cae15"
   },
   "outputs": [
    {
     "data": {
      "text/html": [
       "\n",
       "  <div id=\"df-125f7509-ff72-42de-9e25-3ecbaceffc2a\">\n",
       "    <div class=\"colab-df-container\">\n",
       "      <div>\n",
       "<style scoped>\n",
       "    .dataframe tbody tr th:only-of-type {\n",
       "        vertical-align: middle;\n",
       "    }\n",
       "\n",
       "    .dataframe tbody tr th {\n",
       "        vertical-align: top;\n",
       "    }\n",
       "\n",
       "    .dataframe thead th {\n",
       "        text-align: right;\n",
       "    }\n",
       "</style>\n",
       "<table border=\"1\" class=\"dataframe\">\n",
       "  <thead>\n",
       "    <tr style=\"text-align: right;\">\n",
       "      <th></th>\n",
       "      <th>F1</th>\n",
       "      <th>ROC_AUC</th>\n",
       "      <th>Delta</th>\n",
       "    </tr>\n",
       "  </thead>\n",
       "  <tbody>\n",
       "    <tr>\n",
       "      <th>best_DT_row_nb</th>\n",
       "      <td>0.559871</td>\n",
       "      <td>0.827359</td>\n",
       "      <td>0.267489</td>\n",
       "    </tr>\n",
       "    <tr>\n",
       "      <th>best_RFC_row_nb</th>\n",
       "      <td>0.588235</td>\n",
       "      <td>0.846380</td>\n",
       "      <td>0.258145</td>\n",
       "    </tr>\n",
       "    <tr>\n",
       "      <th>best_LR_row_nb</th>\n",
       "      <td>0.094421</td>\n",
       "      <td>0.648930</td>\n",
       "      <td>0.554509</td>\n",
       "    </tr>\n",
       "    <tr>\n",
       "      <th>best_DT_row_b</th>\n",
       "      <td>0.557498</td>\n",
       "      <td>0.836848</td>\n",
       "      <td>0.279351</td>\n",
       "    </tr>\n",
       "    <tr>\n",
       "      <th>best_RFC_row_b</th>\n",
       "      <td>0.615789</td>\n",
       "      <td>0.847731</td>\n",
       "      <td>0.231942</td>\n",
       "    </tr>\n",
       "    <tr>\n",
       "      <th>best_LR_row_b</th>\n",
       "      <td>0.437819</td>\n",
       "      <td>0.709272</td>\n",
       "      <td>0.271452</td>\n",
       "    </tr>\n",
       "    <tr>\n",
       "      <th>best_DT_fix</th>\n",
       "      <td>0.556682</td>\n",
       "      <td>0.833672</td>\n",
       "      <td>0.276990</td>\n",
       "    </tr>\n",
       "    <tr>\n",
       "      <th>best_RFC_fix</th>\n",
       "      <td>0.622532</td>\n",
       "      <td>0.848509</td>\n",
       "      <td>0.225977</td>\n",
       "    </tr>\n",
       "    <tr>\n",
       "      <th>best_LR_fix</th>\n",
       "      <td>0.427984</td>\n",
       "      <td>0.694223</td>\n",
       "      <td>0.266240</td>\n",
       "    </tr>\n",
       "  </tbody>\n",
       "</table>\n",
       "</div>\n",
       "      <button class=\"colab-df-convert\" onclick=\"convertToInteractive('df-125f7509-ff72-42de-9e25-3ecbaceffc2a')\"\n",
       "              title=\"Convert this dataframe to an interactive table.\"\n",
       "              style=\"display:none;\">\n",
       "        \n",
       "  <svg xmlns=\"http://www.w3.org/2000/svg\" height=\"24px\"viewBox=\"0 0 24 24\"\n",
       "       width=\"24px\">\n",
       "    <path d=\"M0 0h24v24H0V0z\" fill=\"none\"/>\n",
       "    <path d=\"M18.56 5.44l.94 2.06.94-2.06 2.06-.94-2.06-.94-.94-2.06-.94 2.06-2.06.94zm-11 1L8.5 8.5l.94-2.06 2.06-.94-2.06-.94L8.5 2.5l-.94 2.06-2.06.94zm10 10l.94 2.06.94-2.06 2.06-.94-2.06-.94-.94-2.06-.94 2.06-2.06.94z\"/><path d=\"M17.41 7.96l-1.37-1.37c-.4-.4-.92-.59-1.43-.59-.52 0-1.04.2-1.43.59L10.3 9.45l-7.72 7.72c-.78.78-.78 2.05 0 2.83L4 21.41c.39.39.9.59 1.41.59.51 0 1.02-.2 1.41-.59l7.78-7.78 2.81-2.81c.8-.78.8-2.07 0-2.86zM5.41 20L4 18.59l7.72-7.72 1.47 1.35L5.41 20z\"/>\n",
       "  </svg>\n",
       "      </button>\n",
       "      \n",
       "  <style>\n",
       "    .colab-df-container {\n",
       "      display:flex;\n",
       "      flex-wrap:wrap;\n",
       "      gap: 12px;\n",
       "    }\n",
       "\n",
       "    .colab-df-convert {\n",
       "      background-color: #E8F0FE;\n",
       "      border: none;\n",
       "      border-radius: 50%;\n",
       "      cursor: pointer;\n",
       "      display: none;\n",
       "      fill: #1967D2;\n",
       "      height: 32px;\n",
       "      padding: 0 0 0 0;\n",
       "      width: 32px;\n",
       "    }\n",
       "\n",
       "    .colab-df-convert:hover {\n",
       "      background-color: #E2EBFA;\n",
       "      box-shadow: 0px 1px 2px rgba(60, 64, 67, 0.3), 0px 1px 3px 1px rgba(60, 64, 67, 0.15);\n",
       "      fill: #174EA6;\n",
       "    }\n",
       "\n",
       "    [theme=dark] .colab-df-convert {\n",
       "      background-color: #3B4455;\n",
       "      fill: #D2E3FC;\n",
       "    }\n",
       "\n",
       "    [theme=dark] .colab-df-convert:hover {\n",
       "      background-color: #434B5C;\n",
       "      box-shadow: 0px 1px 3px 1px rgba(0, 0, 0, 0.15);\n",
       "      filter: drop-shadow(0px 1px 2px rgba(0, 0, 0, 0.3));\n",
       "      fill: #FFFFFF;\n",
       "    }\n",
       "  </style>\n",
       "\n",
       "      <script>\n",
       "        const buttonEl =\n",
       "          document.querySelector('#df-125f7509-ff72-42de-9e25-3ecbaceffc2a button.colab-df-convert');\n",
       "        buttonEl.style.display =\n",
       "          google.colab.kernel.accessAllowed ? 'block' : 'none';\n",
       "\n",
       "        async function convertToInteractive(key) {\n",
       "          const element = document.querySelector('#df-125f7509-ff72-42de-9e25-3ecbaceffc2a');\n",
       "          const dataTable =\n",
       "            await google.colab.kernel.invokeFunction('convertToInteractive',\n",
       "                                                     [key], {});\n",
       "          if (!dataTable) return;\n",
       "\n",
       "          const docLinkHtml = 'Like what you see? Visit the ' +\n",
       "            '<a target=\"_blank\" href=https://colab.research.google.com/notebooks/data_table.ipynb>data table notebook</a>'\n",
       "            + ' to learn more about interactive tables.';\n",
       "          element.innerHTML = '';\n",
       "          dataTable['output_type'] = 'display_data';\n",
       "          await google.colab.output.renderOutput(dataTable, element);\n",
       "          const docLink = document.createElement('div');\n",
       "          docLink.innerHTML = docLinkHtml;\n",
       "          element.appendChild(docLink);\n",
       "        }\n",
       "      </script>\n",
       "    </div>\n",
       "  </div>\n",
       "  "
      ],
      "text/plain": [
       "                       F1   ROC_AUC     Delta\n",
       "best_DT_row_nb   0.559871  0.827359  0.267489\n",
       "best_RFC_row_nb  0.588235  0.846380  0.258145\n",
       "best_LR_row_nb   0.094421  0.648930  0.554509\n",
       "best_DT_row_b    0.557498  0.836848  0.279351\n",
       "best_RFC_row_b   0.615789  0.847731  0.231942\n",
       "best_LR_row_b    0.437819  0.709272  0.271452\n",
       "best_DT_fix      0.556682  0.833672  0.276990\n",
       "best_RFC_fix     0.622532  0.848509  0.225977\n",
       "best_LR_fix      0.427984  0.694223  0.266240"
      ]
     },
     "execution_count": 77,
     "metadata": {},
     "output_type": "execute_result"
    }
   ],
   "source": [
    "f1_vs_roc"
   ]
  },
  {
   "cell_type": "code",
   "execution_count": 79,
   "metadata": {
    "colab": {
     "base_uri": "https://localhost:8080/",
     "height": 625
    },
    "id": "vK66uun--n1q",
    "outputId": "fd5ddeeb-39f0-4610-c792-edb4198718f4"
   },
   "outputs": [
    {
     "data": {
      "image/png": "[encoded data removed]",
      "text/plain": [
       "<Figure size 1152x648 with 1 Axes>"
      ]
     },
     "metadata": {
      "needs_background": "light"
     },
     "output_type": "display_data"
    }
   ],
   "source": [
    "ax=f1_vs_roc.plot(kind='bar', figsize=(16,9))"
   ]
  },
  {
   "cell_type": "markdown",
   "metadata": {
    "id": "tmTl-QawAiiU"
   },
   "source": [
    "Как видим, динамика F1 и ROC_AUC соноправлена, разница между метриками при балансировке классов и без неё остаётся практически одинаковая.   \n",
    "Едиственное исключение - Логистическая Регрессия при обработке сырых данных. При балансировке классов, разница между F1 и ROC_AUC радикально сократилась. "
   ]
  },
  {
   "cell_type": "markdown",
   "metadata": {
    "id": "TJnxqqIuk7QA"
   },
   "source": [
    "## Чек-лист готовности проекта"
   ]
  },
  {
   "cell_type": "markdown",
   "metadata": {
    "id": "VTI-dA7qk7QB"
   },
   "source": [
    "Поставьте 'x' в выполненных пунктах. Далее нажмите Shift+Enter."
   ]
  },
  {
   "cell_type": "markdown",
   "metadata": {
    "id": "ldGlbcsgk7QB"
   },
   "source": [
    "- [x]  Jupyter Notebook открыт\n",
    "- [ ]  Весь код выполняется без ошибок\n",
    "- [ ]  Ячейки с кодом расположены в порядке исполнения\n",
    "- [ ]  Выполнен шаг 1: данные подготовлены\n",
    "- [ ]  Выполнен шаг 2: задача исследована\n",
    "    - [ ]  Исследован баланс классов\n",
    "    - [ ]  Изучены модели без учёта дисбаланса\n",
    "    - [ ]  Написаны выводы по результатам исследования\n",
    "- [ ]  Выполнен шаг 3: учтён дисбаланс\n",
    "    - [ ]  Применено несколько способов борьбы с дисбалансом\n",
    "    - [ ]  Написаны выводы по результатам исследования\n",
    "- [ ]  Выполнен шаг 4: проведено тестирование\n",
    "- [ ]  Удалось достичь *F1*-меры не менее 0.59\n",
    "- [ ]  Исследована метрика *AUC-ROC*"
   ]
  }
 ],
 "metadata": {
  "ExecuteTimeLog": [
   {
    "duration": 6570,
    "start_time": "2023-01-29T14:19:34.642Z"
   },
   {
    "duration": 103,
    "start_time": "2023-01-29T14:19:41.215Z"
   },
   {
    "duration": 7,
    "start_time": "2023-01-29T14:19:41.320Z"
   },
   {
    "duration": 8,
    "start_time": "2023-01-29T14:19:41.330Z"
   },
   {
    "duration": 16,
    "start_time": "2023-01-29T14:19:41.341Z"
   },
   {
    "duration": 47,
    "start_time": "2023-01-29T14:19:41.359Z"
   },
   {
    "duration": 20,
    "start_time": "2023-01-29T14:19:41.408Z"
   },
   {
    "duration": 6987,
    "start_time": "2023-01-29T14:19:41.430Z"
   },
   {
    "duration": 11405,
    "start_time": "2023-01-29T14:19:48.419Z"
   }
  ],
  "colab": {
   "provenance": []
  },
  "kernelspec": {
   "display_name": "Python 3 (ipykernel)",
   "language": "python",
   "name": "python3"
  },
  "language_info": {
   "codemirror_mode": {
    "name": "ipython",
    "version": 3
   },
   "file_extension": ".py",
   "mimetype": "text/x-python",
   "name": "python",
   "nbconvert_exporter": "python",
   "pygments_lexer": "ipython3",
   "version": "3.9.5"
  },
  "toc": {
   "base_numbering": 1,
   "nav_menu": {},
   "number_sections": true,
   "sideBar": true,
   "skip_h1_title": true,
   "title_cell": "Содержание",
   "title_sidebar": "Contents",
   "toc_cell": true,
   "toc_position": {},
   "toc_section_display": true,
   "toc_window_display": true
  }
 },
 "nbformat": 4,
 "nbformat_minor": 1
}
